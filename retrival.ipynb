{
 "cells": [
  {
   "cell_type": "markdown",
   "id": "12f72b28-02ef-485d-90af-a0dec0cd04b0",
   "metadata": {},
   "source": [
    "# Understanding Retrivals\n",
    "\n",
    "- Suff Method\n",
    "- MapReduce Method "
   ]
  },
  {
   "cell_type": "code",
   "execution_count": 13,
   "id": "0e940e6d-5ec8-4ba7-a5a9-60715f493998",
   "metadata": {},
   "outputs": [],
   "source": [
    "import os\n",
    "import streamlit as st\n",
    "import pickle\n",
    "import time\n",
    "import langchain\n",
    "from langchain import OpenAI\n",
    "from langchain.chains import RetrievalQAWithSourcesChain\n",
    "from langchain.chains.qa_with_sources.loading import load_qa_with_sources_chain\n",
    "from langchain.text_splitter import RecursiveCharacterTextSplitter\n",
    "from langchain.document_loaders import UnstructuredURLLoader\n",
    "from langchain.embeddings import OpenAIEmbeddings\n",
    "from langchain.vectorstores import FAISS\n"
   ]
  },
  {
   "cell_type": "code",
   "execution_count": 14,
   "id": "540fc9f6-0c34-4ab1-bd9a-e26bffebc6f5",
   "metadata": {},
   "outputs": [],
   "source": [
    "#load openAI api key\n",
    "os.environ['OPENAI_API_KEY'] = 'sk-proj-VZBi9kjb1DmxxDXHa0h2T3BlbkFJOPfgDcZ8ttJ9i1O3mH6S'"
   ]
  },
  {
   "cell_type": "code",
   "execution_count": 15,
   "id": "24aac6ba-98ae-4f58-80e7-3160a802ea68",
   "metadata": {},
   "outputs": [],
   "source": [
    "# Initialise LLM with required params\n",
    "llm = OpenAI(temperature=0.9, max_tokens=500) "
   ]
  },
  {
   "cell_type": "code",
   "execution_count": 16,
   "id": "ec7d11f3-c2e2-4686-a182-b076b737ba1b",
   "metadata": {},
   "outputs": [
    {
     "data": {
      "text/plain": [
       "3"
      ]
     },
     "execution_count": 16,
     "metadata": {},
     "output_type": "execute_result"
    }
   ],
   "source": [
    "loaders = UnstructuredURLLoader(\n",
    "    urls = [\n",
    "        \"https://www.moneycontrol.com/news/business/stocks/accumulate-tata-motors-target-of-rs-1075-prabhudas-lilladher-12538061.html\",\n",
    "        \"https://www.moneycontrol.com/news/business/stocks/buy-tata-motors-target-of-rs-1188-sharekhan-12411611.html\",\n",
    "        \"https://www.moneycontrol.com/news/business/stocks/reduce-tata-motors-target-of-rs-901-icici-securities-12411521.html\"\n",
    "        ]\n",
    ")\n",
    "data = loaders.load() \n",
    "len(data)"
   ]
  },
  {
   "cell_type": "code",
   "execution_count": 17,
   "id": "ff3a25c2-a92a-43b6-ae42-c269928b26af",
   "metadata": {},
   "outputs": [],
   "source": [
    "text_splitter = RecursiveCharacterTextSplitter(\n",
    "    chunk_size=1000,\n",
    "    chunk_overlap=200\n",
    ")\n",
    "\n",
    "# As data is of type documents we can directly use split_documents over split_text in order to get the chunks.\n",
    "docs = text_splitter.split_documents(data)"
   ]
  },
  {
   "cell_type": "code",
   "execution_count": 18,
   "id": "6593d8ef-04ce-40fb-9b92-083a7ffb283d",
   "metadata": {},
   "outputs": [],
   "source": [
    "# Create the embeddings of the chunks using openAIEmbeddings\n",
    "embeddings = OpenAIEmbeddings()\n",
    "\n",
    "# Pass the documents and embeddings inorder to create FAISS vector index\n",
    "vectorindex_openai = FAISS.from_documents(docs, embeddings)"
   ]
  },
  {
   "cell_type": "code",
   "execution_count": 19,
   "id": "b207df59-1439-4d2f-a080-23e9102c77fc",
   "metadata": {},
   "outputs": [],
   "source": [
    "pkl = vectorindex_openai.serialize_to_bytes()"
   ]
  },
  {
   "cell_type": "code",
   "execution_count": 20,
   "id": "de69f7df-8dcd-4cf0-8a8f-9053ac72bc71",
   "metadata": {},
   "outputs": [],
   "source": [
    "# Storing vector index create in local\n",
    "file_path=\"vector_index_1.pkl\"\n",
    "with open(file_path, \"wb\") as f:\n",
    "    pickle.dump(pkl, f)"
   ]
  },
  {
   "cell_type": "code",
   "execution_count": 21,
   "id": "684481ec-c665-4ef2-bac4-7d8fca438d9d",
   "metadata": {},
   "outputs": [],
   "source": [
    "if os.path.exists(file_path):\n",
    "    with open(file_path, \"rb\") as f:\n",
    "        vectorIndex = pickle.load(f)"
   ]
  },
  {
   "cell_type": "code",
   "execution_count": null,
   "id": "f45fd2f3-f4de-4e17-8095-7ea30ef54b2c",
   "metadata": {},
   "outputs": [],
   "source": []
  },
  {
   "cell_type": "code",
   "execution_count": 22,
   "id": "5a8c9d82-26f3-406f-94c1-7529f52925ec",
   "metadata": {},
   "outputs": [],
   "source": [
    "vectorIndex = FAISS.deserialize_from_bytes(embeddings=OpenAIEmbeddings(), serialized=vectorIndex,allow_dangerous_deserialization=True)"
   ]
  },
  {
   "cell_type": "code",
   "execution_count": 23,
   "id": "b3b9edb2-90e9-4476-9a54-ced996e017fb",
   "metadata": {},
   "outputs": [
    {
     "data": {
      "text/plain": [
       "RetrievalQAWithSourcesChain(combine_documents_chain=MapReduceDocumentsChain(llm_chain=LLMChain(prompt=PromptTemplate(input_variables=['context', 'question'], template='Use the following portion of a long document to see if any of the text is relevant to answer the question. \\nReturn any relevant text verbatim.\\n{context}\\nQuestion: {question}\\nRelevant text, if any:'), llm=OpenAI(client=<openai.resources.completions.Completions object at 0x000001FE149F7E90>, async_client=<openai.resources.completions.AsyncCompletions object at 0x000001FE7D6BED10>, temperature=0.9, max_tokens=500, openai_api_key='sk-proj-VZBi9kjb1DmxxDXHa0h2T3BlbkFJOPfgDcZ8ttJ9i1O3mH6S', openai_proxy='')), reduce_documents_chain=ReduceDocumentsChain(combine_documents_chain=StuffDocumentsChain(llm_chain=LLMChain(prompt=PromptTemplate(input_variables=['question', 'summaries'], template='Given the following extracted parts of a long document and a question, create a final answer with references (\"SOURCES\"). \\nIf you don\\'t know the answer, just say that you don\\'t know. Don\\'t try to make up an answer.\\nALWAYS return a \"SOURCES\" part in your answer.\\n\\nQUESTION: Which state/country\\'s law governs the interpretation of the contract?\\n=========\\nContent: This Agreement is governed by English law and the parties submit to the exclusive jurisdiction of the English courts in  relation to any dispute (contractual or non-contractual) concerning this Agreement save that either party may apply to any court for an  injunction or other relief to protect its Intellectual Property Rights.\\nSource: 28-pl\\nContent: No Waiver. Failure or delay in exercising any right or remedy under this Agreement shall not constitute a waiver of such (or any other)  right or remedy.\\n\\n11.7 Severability. The invalidity, illegality or unenforceability of any term (or part of a term) of this Agreement shall not affect the continuation  in force of the remainder of the term (if any) and this Agreement.\\n\\n11.8 No Agency. Except as expressly stated otherwise, nothing in this Agreement shall create an agency, partnership or joint venture of any  kind between the parties.\\n\\n11.9 No Third-Party Beneficiaries.\\nSource: 30-pl\\nContent: (b) if Google believes, in good faith, that the Distributor has violated or caused Google to violate any Anti-Bribery Laws (as  defined in Clause 8.5) or that such a violation is reasonably likely to occur,\\nSource: 4-pl\\n=========\\nFINAL ANSWER: This Agreement is governed by English law.\\nSOURCES: 28-pl\\n\\nQUESTION: What did the president say about Michael Jackson?\\n=========\\nContent: Madam Speaker, Madam Vice President, our First Lady and Second Gentleman. Members of Congress and the Cabinet. Justices of the Supreme Court. My fellow Americans.  \\n\\nLast year COVID-19 kept us apart. This year we are finally together again. \\n\\nTonight, we meet as Democrats Republicans and Independents. But most importantly as Americans. \\n\\nWith a duty to one another to the American people to the Constitution. \\n\\nAnd with an unwavering resolve that freedom will always triumph over tyranny. \\n\\nSix days ago, Russia’s Vladimir Putin sought to shake the foundations of the free world thinking he could make it bend to his menacing ways. But he badly miscalculated. \\n\\nHe thought he could roll into Ukraine and the world would roll over. Instead he met a wall of strength he never imagined. \\n\\nHe met the Ukrainian people. \\n\\nFrom President Zelenskyy to every Ukrainian, their fearlessness, their courage, their determination, inspires the world. \\n\\nGroups of citizens blocking tanks with their bodies. Everyone from students to retirees teachers turned soldiers defending their homeland.\\nSource: 0-pl\\nContent: And we won’t stop. \\n\\nWe have lost so much to COVID-19. Time with one another. And worst of all, so much loss of life. \\n\\nLet’s use this moment to reset. Let’s stop looking at COVID-19 as a partisan dividing line and see it for what it is: A God-awful disease.  \\n\\nLet’s stop seeing each other as enemies, and start seeing each other for who we really are: Fellow Americans.  \\n\\nWe can’t change how divided we’ve been. But we can change how we move forward—on COVID-19 and other issues we must face together. \\n\\nI recently visited the New York City Police Department days after the funerals of Officer Wilbert Mora and his partner, Officer Jason Rivera. \\n\\nThey were responding to a 9-1-1 call when a man shot and killed them with a stolen gun. \\n\\nOfficer Mora was 27 years old. \\n\\nOfficer Rivera was 22. \\n\\nBoth Dominican Americans who’d grown up on the same streets they later chose to patrol as police officers. \\n\\nI spoke with their families and told them that we are forever in debt for their sacrifice, and we will carry on their mission to restore the trust and safety every community deserves.\\nSource: 24-pl\\nContent: And a proud Ukrainian people, who have known 30 years  of independence, have repeatedly shown that they will not tolerate anyone who tries to take their country backwards.  \\n\\nTo all Americans, I will be honest with you, as I’ve always promised. A Russian dictator, invading a foreign country, has costs around the world. \\n\\nAnd I’m taking robust action to make sure the pain of our sanctions  is targeted at Russia’s economy. And I will use every tool at our disposal to protect American businesses and consumers. \\n\\nTonight, I can announce that the United States has worked with 30 other countries to release 60 Million barrels of oil from reserves around the world.  \\n\\nAmerica will lead that effort, releasing 30 Million barrels from our own Strategic Petroleum Reserve. And we stand ready to do more if necessary, unified with our allies.  \\n\\nThese steps will help blunt gas prices here at home. And I know the news about what’s happening can seem alarming. \\n\\nBut I want you to know that we are going to be okay.\\nSource: 5-pl\\nContent: More support for patients and families. \\n\\nTo get there, I call on Congress to fund ARPA-H, the Advanced Research Projects Agency for Health. \\n\\nIt’s based on DARPA—the Defense Department project that led to the Internet, GPS, and so much more.  \\n\\nARPA-H will have a singular purpose—to drive breakthroughs in cancer, Alzheimer’s, diabetes, and more. \\n\\nA unity agenda for the nation. \\n\\nWe can do this. \\n\\nMy fellow Americans—tonight , we have gathered in a sacred space—the citadel of our democracy. \\n\\nIn this Capitol, generation after generation, Americans have debated great questions amid great strife, and have done great things. \\n\\nWe have fought for freedom, expanded liberty, defeated totalitarianism and terror. \\n\\nAnd built the strongest, freest, and most prosperous nation the world has ever known. \\n\\nNow is the hour. \\n\\nOur moment of responsibility. \\n\\nOur test of resolve and conscience, of history itself. \\n\\nIt is in this moment that our character is formed. Our purpose is found. Our future is forged. \\n\\nWell I know this nation.\\nSource: 34-pl\\n=========\\nFINAL ANSWER: The president did not mention Michael Jackson.\\nSOURCES:\\n\\nQUESTION: {question}\\n=========\\n{summaries}\\n=========\\nFINAL ANSWER:'), llm=OpenAI(client=<openai.resources.completions.Completions object at 0x000001FE149F7E90>, async_client=<openai.resources.completions.AsyncCompletions object at 0x000001FE7D6BED10>, temperature=0.9, max_tokens=500, openai_api_key='sk-proj-VZBi9kjb1DmxxDXHa0h2T3BlbkFJOPfgDcZ8ttJ9i1O3mH6S', openai_proxy='')), document_prompt=PromptTemplate(input_variables=['page_content', 'source'], template='Content: {page_content}\\nSource: {source}'), document_variable_name='summaries')), document_variable_name='context'), retriever=VectorStoreRetriever(tags=['FAISS', 'OpenAIEmbeddings'], vectorstore=<langchain_community.vectorstores.faiss.FAISS object at 0x000001FE1C6FD390>))"
      ]
     },
     "execution_count": 23,
     "metadata": {},
     "output_type": "execute_result"
    }
   ],
   "source": [
    "chain = RetrievalQAWithSourcesChain.from_llm(llm=llm, retriever=vectorIndex.as_retriever())\n",
    "chain"
   ]
  },
  {
   "cell_type": "code",
   "execution_count": 24,
   "id": "705bc5d2-085b-4cfd-bd85-a936e6490f3e",
   "metadata": {},
   "outputs": [
    {
     "name": "stdout",
     "output_type": "stream",
     "text": [
      "\u001b[32;1m\u001b[1;3m[chain/start]\u001b[0m \u001b[1m[chain:RetrievalQAWithSourcesChain] Entering Chain run with input:\n",
      "\u001b[0m{\n",
      "  \"question\": \"What is the least and highest suggested value for tata motors\"\n",
      "}\n",
      "\u001b[32;1m\u001b[1;3m[chain/start]\u001b[0m \u001b[1m[chain:RetrievalQAWithSourcesChain > chain:MapReduceDocumentsChain] Entering Chain run with input:\n",
      "\u001b[0m[inputs]\n",
      "\u001b[32;1m\u001b[1;3m[chain/start]\u001b[0m \u001b[1m[chain:RetrievalQAWithSourcesChain > chain:MapReduceDocumentsChain > chain:LLMChain] Entering Chain run with input:\n",
      "\u001b[0m{\n",
      "  \"input_list\": [\n",
      "    {\n",
      "      \"context\": \"Story continues below Advertisement\\n\\nRemove Ad\\n\\nOutlook\\n\\nWe downgrade TTMT to REDUCE from Hold, post its ~40% rally in past three months, with an SoTP-based TP of INR 901 (implying ~13x/2.5x FY26E India/JLR EV/EBITDA).\\n\\nFor all recommendations report, click here\\n\\nRelated stories\\n\\nBuy Nazara Technologies; target of Rs 1080: ICICI Securities\\n\\nBuy City Union Bank; target of Rs 205: Asit C Mehta\\n\\nHold Nazara Technologies; target of Rs 878: Prabhudas Lilladher\\n\\nDisclaimer: The views and investment tips expressed by investment experts/broking houses/rating agencies on moneycontrol.com are their own, and not that of the website or its management. Moneycontrol.com advises users to check with certified experts before taking any investment decisions.\\n\\nTata Motors - 06032024 -ici\\n\\nBroker Research\\n\\nTags:\\n\\n#ICICI Securities\\n\\n#Recommendations\\n\\n#Reduce\\n\\n#Tata Motors\\n\\nfirst published: Mar 6, 2024 12:49 pm\\n\\nTop Trends\\n\\nBudget 2024\\n\\nWipro\\n\\nStock Radar\\n\\nIxigo IPO allotment\\n\\nIPO News\\n\\nPrajwal Revanna\",\n",
      "      \"question\": \"What is the least and highest suggested value for tata motors\"\n",
      "    },\n",
      "    {\n",
      "      \"context\": \"Story continues below Advertisement\\n\\nRemove Ad\\n\\nOutlook\\n\\nWe maintain a Buy with a revised PT of Rs 1,188 on expectations of continued improvement in JLR, PV and CV business and reduced net automotive debt from current levels. Stock trades at P/E multiple of 14.6x and EV/EBITDA multiple of 5.6x its FY26E estimates.\\n\\nFor all recommendations report, click here\\n\\nDisclaimer: The views and investment tips expressed by investment experts/broking houses/rating agencies on moneycontrol.com are their own, and not that of the website or its management. Moneycontrol.com advises users to check with certified experts before taking any investment decisions.\\n\\nTata Motors - 06032024 - khan\\n\\nBroker Research\\n\\nTags:\\n\\n#Buy\\n\\n#Recommendations\\n\\n#Sharekhan\\n\\n#Tata Motors\\n\\nfirst published: Mar 6, 2024 01:41 pm\\n\\nTop Trends\\n\\nBudget 2024\\n\\nWipro\\n\\nStock Radar\\n\\nIxigo IPO allotment\\n\\nIPO News\\n\\nPrajwal Revanna\\n\\nAdvertisement\\n\\nRemove Ad\\n\\nAdvisory Alert:\\n\\ngrievanceofficer@nw18.com or call on 02268882347\\n\\nForum\\n\\nFacebook\",\n",
      "      \"question\": \"What is the least and highest suggested value for tata motors\"\n",
      "    },\n",
      "    {\n",
      "      \"context\": \"Tata Motors - 28032024 - prabhu\\n\\nBroker Research\\n\\nTags:\\n\\n#Accumulate\\n\\n#Prabhudas Lilladher\\n\\n#Recommendations\\n\\n#Tata Motors\\n\\nfirst published: Mar 28, 2024 03:36 pm\\n\\nTop Trends\\n\\nBudget 2024\\n\\nWipro\\n\\nStock Radar\\n\\nIxigo IPO allotment\\n\\nIPO News\\n\\nPrajwal Revanna\\n\\nAdvertisement\\n\\nRemove Ad\\n\\nTrending news\\n\\nMan hit with Rs 44,829 bill on Tinder date scam: Rs 500 fries, 18 Jägerbombs & 4 truffle cakes\\n\\nMount Everest tourists clash over selfie spot, throw punches & kicks in chaotic brawl\\n\\nThese 10 countries are the most preferred immigration destinations globally. Rank 1 is...\\n\\nMark Zuckerberg goes surfing in a tuxedo, with a beer & US flag on 4th of July. No, its not AI\\n\\nSwiggy unveils 'Eatlists': discover, share & curate your favourite food now. Here's how\\n\\nAdvisory Alert:\\n\\ngrievanceofficer@nw18.com or call on 02268882347\\n\\nForum\\n\\nFacebook\\n\\nTwitter\\n\\nInstagram\\n\\nLinkedin\\n\\nRSS\\n\\nPortfolio\\n\\nMarkets\\n\\nWatchlist\\n\\nLive TV Show\\n\\nCurrencies\\n\\nFREE Credit Score₹100 Cash Reward\\n\\nCommodities\\n\\nFixed Income\",\n",
      "      \"question\": \"What is the least and highest suggested value for tata motors\"\n",
      "    },\n",
      "    {\n",
      "      \"context\": \"PRO\\n\\nBusiness\\n\\nMarkets\\n\\nStocks\\n\\nEconomy\\n\\nCompanies\\n\\nTrends\\n\\nIPO\\n\\nOpinion\\n\\nEV Special\\n\\nHome\\n\\nNews\\n\\nBusiness\\n\\nStocks\\n\\nTrending Topics\\n\\nGanesh Green Bharat SME IPO\\n\\nEnviro Infra Engineers IPO\\n\\nMotilal Oswal\\n\\nEmcure Pharma IPO\\n\\nMutual Funds Lite Regulations\\n\\nReduce Tata Motors; target of Rs 901: ICICI Securities\\n\\nICICI Securities recommended reduce rating on Tata Motors with a target price of Rs 901 in its research report dated March 06, 2024.\\n\\nBroker Research\\n\\nMarch 06, 2024 / 12:57 PM IST\\n\\n\\n\\n\\n\\n\\n\\n\\n\\n\\n\\n\\n\\nreduce\\n\\nWatchlist\\n\\nPortfolio\\n\\nMessage\\n\\nSet Alert\\n\\nlive\\n\\nbselive\\n\\nnselive\\n\\nVolume \\n\\nTodays L/H \\n\\nMore\\n\\nICICI Securities research report on Tata Motors\",\n",
      "      \"question\": \"What is the least and highest suggested value for tata motors\"\n",
      "    }\n",
      "  ]\n",
      "}\n",
      "\u001b[32;1m\u001b[1;3m[llm/start]\u001b[0m \u001b[1m[chain:RetrievalQAWithSourcesChain > chain:MapReduceDocumentsChain > chain:LLMChain > llm:OpenAI] Entering LLM run with input:\n",
      "\u001b[0m{\n",
      "  \"prompts\": [\n",
      "    \"Use the following portion of a long document to see if any of the text is relevant to answer the question. \\nReturn any relevant text verbatim.\\nStory continues below Advertisement\\n\\nRemove Ad\\n\\nOutlook\\n\\nWe downgrade TTMT to REDUCE from Hold, post its ~40% rally in past three months, with an SoTP-based TP of INR 901 (implying ~13x/2.5x FY26E India/JLR EV/EBITDA).\\n\\nFor all recommendations report, click here\\n\\nRelated stories\\n\\nBuy Nazara Technologies; target of Rs 1080: ICICI Securities\\n\\nBuy City Union Bank; target of Rs 205: Asit C Mehta\\n\\nHold Nazara Technologies; target of Rs 878: Prabhudas Lilladher\\n\\nDisclaimer: The views and investment tips expressed by investment experts/broking houses/rating agencies on moneycontrol.com are their own, and not that of the website or its management. Moneycontrol.com advises users to check with certified experts before taking any investment decisions.\\n\\nTata Motors - 06032024 -ici\\n\\nBroker Research\\n\\nTags:\\n\\n#ICICI Securities\\n\\n#Recommendations\\n\\n#Reduce\\n\\n#Tata Motors\\n\\nfirst published: Mar 6, 2024 12:49 pm\\n\\nTop Trends\\n\\nBudget 2024\\n\\nWipro\\n\\nStock Radar\\n\\nIxigo IPO allotment\\n\\nIPO News\\n\\nPrajwal Revanna\\nQuestion: What is the least and highest suggested value for tata motors\\nRelevant text, if any:\"\n",
      "  ]\n",
      "}\n",
      "\u001b[32;1m\u001b[1;3m[llm/start]\u001b[0m \u001b[1m[chain:RetrievalQAWithSourcesChain > chain:MapReduceDocumentsChain > chain:LLMChain > llm:OpenAI] Entering LLM run with input:\n",
      "\u001b[0m{\n",
      "  \"prompts\": [\n",
      "    \"Use the following portion of a long document to see if any of the text is relevant to answer the question. \\nReturn any relevant text verbatim.\\nStory continues below Advertisement\\n\\nRemove Ad\\n\\nOutlook\\n\\nWe maintain a Buy with a revised PT of Rs 1,188 on expectations of continued improvement in JLR, PV and CV business and reduced net automotive debt from current levels. Stock trades at P/E multiple of 14.6x and EV/EBITDA multiple of 5.6x its FY26E estimates.\\n\\nFor all recommendations report, click here\\n\\nDisclaimer: The views and investment tips expressed by investment experts/broking houses/rating agencies on moneycontrol.com are their own, and not that of the website or its management. Moneycontrol.com advises users to check with certified experts before taking any investment decisions.\\n\\nTata Motors - 06032024 - khan\\n\\nBroker Research\\n\\nTags:\\n\\n#Buy\\n\\n#Recommendations\\n\\n#Sharekhan\\n\\n#Tata Motors\\n\\nfirst published: Mar 6, 2024 01:41 pm\\n\\nTop Trends\\n\\nBudget 2024\\n\\nWipro\\n\\nStock Radar\\n\\nIxigo IPO allotment\\n\\nIPO News\\n\\nPrajwal Revanna\\n\\nAdvertisement\\n\\nRemove Ad\\n\\nAdvisory Alert:\\n\\ngrievanceofficer@nw18.com or call on 02268882347\\n\\nForum\\n\\nFacebook\\nQuestion: What is the least and highest suggested value for tata motors\\nRelevant text, if any:\"\n",
      "  ]\n",
      "}\n",
      "\u001b[32;1m\u001b[1;3m[llm/start]\u001b[0m \u001b[1m[chain:RetrievalQAWithSourcesChain > chain:MapReduceDocumentsChain > chain:LLMChain > llm:OpenAI] Entering LLM run with input:\n",
      "\u001b[0m{\n",
      "  \"prompts\": [\n",
      "    \"Use the following portion of a long document to see if any of the text is relevant to answer the question. \\nReturn any relevant text verbatim.\\nTata Motors - 28032024 - prabhu\\n\\nBroker Research\\n\\nTags:\\n\\n#Accumulate\\n\\n#Prabhudas Lilladher\\n\\n#Recommendations\\n\\n#Tata Motors\\n\\nfirst published: Mar 28, 2024 03:36 pm\\n\\nTop Trends\\n\\nBudget 2024\\n\\nWipro\\n\\nStock Radar\\n\\nIxigo IPO allotment\\n\\nIPO News\\n\\nPrajwal Revanna\\n\\nAdvertisement\\n\\nRemove Ad\\n\\nTrending news\\n\\nMan hit with Rs 44,829 bill on Tinder date scam: Rs 500 fries, 18 Jägerbombs & 4 truffle cakes\\n\\nMount Everest tourists clash over selfie spot, throw punches & kicks in chaotic brawl\\n\\nThese 10 countries are the most preferred immigration destinations globally. Rank 1 is...\\n\\nMark Zuckerberg goes surfing in a tuxedo, with a beer & US flag on 4th of July. No, its not AI\\n\\nSwiggy unveils 'Eatlists': discover, share & curate your favourite food now. Here's how\\n\\nAdvisory Alert:\\n\\ngrievanceofficer@nw18.com or call on 02268882347\\n\\nForum\\n\\nFacebook\\n\\nTwitter\\n\\nInstagram\\n\\nLinkedin\\n\\nRSS\\n\\nPortfolio\\n\\nMarkets\\n\\nWatchlist\\n\\nLive TV Show\\n\\nCurrencies\\n\\nFREE Credit Score₹100 Cash Reward\\n\\nCommodities\\n\\nFixed Income\\nQuestion: What is the least and highest suggested value for tata motors\\nRelevant text, if any:\"\n",
      "  ]\n",
      "}\n",
      "\u001b[32;1m\u001b[1;3m[llm/start]\u001b[0m \u001b[1m[chain:RetrievalQAWithSourcesChain > chain:MapReduceDocumentsChain > chain:LLMChain > llm:OpenAI] Entering LLM run with input:\n",
      "\u001b[0m{\n",
      "  \"prompts\": [\n",
      "    \"Use the following portion of a long document to see if any of the text is relevant to answer the question. \\nReturn any relevant text verbatim.\\nPRO\\n\\nBusiness\\n\\nMarkets\\n\\nStocks\\n\\nEconomy\\n\\nCompanies\\n\\nTrends\\n\\nIPO\\n\\nOpinion\\n\\nEV Special\\n\\nHome\\n\\nNews\\n\\nBusiness\\n\\nStocks\\n\\nTrending Topics\\n\\nGanesh Green Bharat SME IPO\\n\\nEnviro Infra Engineers IPO\\n\\nMotilal Oswal\\n\\nEmcure Pharma IPO\\n\\nMutual Funds Lite Regulations\\n\\nReduce Tata Motors; target of Rs 901: ICICI Securities\\n\\nICICI Securities recommended reduce rating on Tata Motors with a target price of Rs 901 in its research report dated March 06, 2024.\\n\\nBroker Research\\n\\nMarch 06, 2024 / 12:57 PM IST\\n\\n\\n\\n\\n\\n\\n\\n\\n\\n\\n\\n\\n\\nreduce\\n\\nWatchlist\\n\\nPortfolio\\n\\nMessage\\n\\nSet Alert\\n\\nlive\\n\\nbselive\\n\\nnselive\\n\\nVolume \\n\\nTodays L/H \\n\\nMore\\n\\nICICI Securities research report on Tata Motors\\nQuestion: What is the least and highest suggested value for tata motors\\nRelevant text, if any:\"\n",
      "  ]\n",
      "}\n",
      "\u001b[36;1m\u001b[1;3m[llm/end]\u001b[0m \u001b[1m[chain:RetrievalQAWithSourcesChain > chain:MapReduceDocumentsChain > chain:LLMChain > llm:OpenAI] [3.41s] Exiting LLM run with output:\n",
      "\u001b[0m{\n",
      "  \"generations\": [\n",
      "    [\n",
      "      {\n",
      "        \"text\": \" We downgrade TTMT to REDUCE from Hold, post its ~40% rally in past three months, with an SoTP-based TP of INR 901 (implying ~13x/2.5x FY26E India/JLR EV/EBITDA).\\n\\nFor all recommendations report, click here\\n\\nRelated stories\\n\\nHold Nazara Technologies; target of Rs 878: Prabhudas Lilladher\\n\\nDisclaimer: The views and investment tips expressed by investment experts/broking houses/rating agencies on moneycontrol.com are their own, and not that of the website or its management. Moneycontrol.com advises users to check with certified experts before taking any investment decisions.\\n\\nTata Motors - 06032024 -ici\\n\\nBroker Research\\n\\nTags:\\n\\n#ICICI Securities\\n\\n#Recommendations\\n\\n#Reduce\\n\\n#Tata Motors\\n\\nfirst published: Mar 6, 2024 12:49 pm\\n\\nTata Motors - 06032024 -ici\\n\\nRelevant text, if any: with an SoTP-based TP of INR 901 (implying ~13x/2.5x FY26E India/JLR EV/EBITDA).\",\n",
      "        \"generation_info\": {\n",
      "          \"finish_reason\": \"stop\",\n",
      "          \"logprobs\": null\n",
      "        },\n",
      "        \"type\": \"Generation\"\n",
      "      }\n",
      "    ]\n",
      "  ],\n",
      "  \"llm_output\": {\n",
      "    \"token_usage\": {\n",
      "      \"total_tokens\": 1520,\n",
      "      \"prompt_tokens\": 1184,\n",
      "      \"completion_tokens\": 336\n",
      "    },\n",
      "    \"model_name\": \"gpt-3.5-turbo-instruct\"\n",
      "  },\n",
      "  \"run\": null\n",
      "}\n",
      "\u001b[36;1m\u001b[1;3m[llm/end]\u001b[0m \u001b[1m[chain:RetrievalQAWithSourcesChain > chain:MapReduceDocumentsChain > chain:LLMChain > llm:OpenAI] [3.41s] Exiting LLM run with output:\n",
      "\u001b[0m{\n",
      "  \"generations\": [\n",
      "    [\n",
      "      {\n",
      "        \"text\": \" \\\"We maintain a Buy with a revised PT of Rs 1,188 on expectations of continued improvement in JLR, PV and CV business\\\"\",\n",
      "        \"generation_info\": {\n",
      "          \"finish_reason\": \"stop\",\n",
      "          \"logprobs\": null\n",
      "        },\n",
      "        \"type\": \"Generation\"\n",
      "      }\n",
      "    ]\n",
      "  ],\n",
      "  \"llm_output\": {\n",
      "    \"token_usage\": {},\n",
      "    \"model_name\": \"gpt-3.5-turbo-instruct\"\n",
      "  },\n",
      "  \"run\": null\n",
      "}\n",
      "\u001b[36;1m\u001b[1;3m[llm/end]\u001b[0m \u001b[1m[chain:RetrievalQAWithSourcesChain > chain:MapReduceDocumentsChain > chain:LLMChain > llm:OpenAI] [3.40s] Exiting LLM run with output:\n",
      "\u001b[0m{\n",
      "  \"generations\": [\n",
      "    [\n",
      "      {\n",
      "        \"text\": \"\\nAccumulate Tata Motors with a recommended target price range of Rs. 25-35, according to Prabhudas Lilladher's latest broker research. The recommendations were first published on Mar 28, 2024 at 03:36 pm.\",\n",
      "        \"generation_info\": {\n",
      "          \"finish_reason\": \"stop\",\n",
      "          \"logprobs\": null\n",
      "        },\n",
      "        \"type\": \"Generation\"\n",
      "      }\n",
      "    ]\n",
      "  ],\n",
      "  \"llm_output\": {\n",
      "    \"token_usage\": {},\n",
      "    \"model_name\": \"gpt-3.5-turbo-instruct\"\n",
      "  },\n",
      "  \"run\": null\n",
      "}\n",
      "\u001b[36;1m\u001b[1;3m[llm/end]\u001b[0m \u001b[1m[chain:RetrievalQAWithSourcesChain > chain:MapReduceDocumentsChain > chain:LLMChain > llm:OpenAI] [3.40s] Exiting LLM run with output:\n",
      "\u001b[0m{\n",
      "  \"generations\": [\n",
      "    [\n",
      "      {\n",
      "        \"text\": \" \\\"Reduce Tata Motors; target of Rs 901\\\"\",\n",
      "        \"generation_info\": {\n",
      "          \"finish_reason\": \"stop\",\n",
      "          \"logprobs\": null\n",
      "        },\n",
      "        \"type\": \"Generation\"\n",
      "      }\n",
      "    ]\n",
      "  ],\n",
      "  \"llm_output\": {\n",
      "    \"token_usage\": {},\n",
      "    \"model_name\": \"gpt-3.5-turbo-instruct\"\n",
      "  },\n",
      "  \"run\": null\n",
      "}\n",
      "\u001b[36;1m\u001b[1;3m[chain/end]\u001b[0m \u001b[1m[chain:RetrievalQAWithSourcesChain > chain:MapReduceDocumentsChain > chain:LLMChain] [3.41s] Exiting Chain run with output:\n",
      "\u001b[0m{\n",
      "  \"outputs\": [\n",
      "    {\n",
      "      \"text\": \" We downgrade TTMT to REDUCE from Hold, post its ~40% rally in past three months, with an SoTP-based TP of INR 901 (implying ~13x/2.5x FY26E India/JLR EV/EBITDA).\\n\\nFor all recommendations report, click here\\n\\nRelated stories\\n\\nHold Nazara Technologies; target of Rs 878: Prabhudas Lilladher\\n\\nDisclaimer: The views and investment tips expressed by investment experts/broking houses/rating agencies on moneycontrol.com are their own, and not that of the website or its management. Moneycontrol.com advises users to check with certified experts before taking any investment decisions.\\n\\nTata Motors - 06032024 -ici\\n\\nBroker Research\\n\\nTags:\\n\\n#ICICI Securities\\n\\n#Recommendations\\n\\n#Reduce\\n\\n#Tata Motors\\n\\nfirst published: Mar 6, 2024 12:49 pm\\n\\nTata Motors - 06032024 -ici\\n\\nRelevant text, if any: with an SoTP-based TP of INR 901 (implying ~13x/2.5x FY26E India/JLR EV/EBITDA).\"\n",
      "    },\n",
      "    {\n",
      "      \"text\": \" \\\"We maintain a Buy with a revised PT of Rs 1,188 on expectations of continued improvement in JLR, PV and CV business\\\"\"\n",
      "    },\n",
      "    {\n",
      "      \"text\": \"\\nAccumulate Tata Motors with a recommended target price range of Rs. 25-35, according to Prabhudas Lilladher's latest broker research. The recommendations were first published on Mar 28, 2024 at 03:36 pm.\"\n",
      "    },\n",
      "    {\n",
      "      \"text\": \" \\\"Reduce Tata Motors; target of Rs 901\\\"\"\n",
      "    }\n",
      "  ]\n",
      "}\n",
      "\u001b[32;1m\u001b[1;3m[chain/start]\u001b[0m \u001b[1m[chain:RetrievalQAWithSourcesChain > chain:MapReduceDocumentsChain > chain:LLMChain] Entering Chain run with input:\n",
      "\u001b[0m{\n",
      "  \"question\": \"What is the least and highest suggested value for tata motors\",\n",
      "  \"summaries\": \"Content:  We downgrade TTMT to REDUCE from Hold, post its ~40% rally in past three months, with an SoTP-based TP of INR 901 (implying ~13x/2.5x FY26E India/JLR EV/EBITDA).\\n\\nFor all recommendations report, click here\\n\\nRelated stories\\n\\nHold Nazara Technologies; target of Rs 878: Prabhudas Lilladher\\n\\nDisclaimer: The views and investment tips expressed by investment experts/broking houses/rating agencies on moneycontrol.com are their own, and not that of the website or its management. Moneycontrol.com advises users to check with certified experts before taking any investment decisions.\\n\\nTata Motors - 06032024 -ici\\n\\nBroker Research\\n\\nTags:\\n\\n#ICICI Securities\\n\\n#Recommendations\\n\\n#Reduce\\n\\n#Tata Motors\\n\\nfirst published: Mar 6, 2024 12:49 pm\\n\\nTata Motors - 06032024 -ici\\n\\nRelevant text, if any: with an SoTP-based TP of INR 901 (implying ~13x/2.5x FY26E India/JLR EV/EBITDA).\\nSource: https://www.moneycontrol.com/news/business/stocks/reduce-tata-motors-target-of-rs-901-icici-securities-12411521.html\\n\\nContent:  \\\"We maintain a Buy with a revised PT of Rs 1,188 on expectations of continued improvement in JLR, PV and CV business\\\"\\nSource: https://www.moneycontrol.com/news/business/stocks/buy-tata-motors-target-of-rs-1188-sharekhan-12411611.html\\n\\nContent: \\nAccumulate Tata Motors with a recommended target price range of Rs. 25-35, according to Prabhudas Lilladher's latest broker research. The recommendations were first published on Mar 28, 2024 at 03:36 pm.\\nSource: https://www.moneycontrol.com/news/business/stocks/accumulate-tata-motors-target-of-rs-1075-prabhudas-lilladher-12538061.html\\n\\nContent:  \\\"Reduce Tata Motors; target of Rs 901\\\"\\nSource: https://www.moneycontrol.com/news/business/stocks/reduce-tata-motors-target-of-rs-901-icici-securities-12411521.html\"\n",
      "}\n",
      "\u001b[32;1m\u001b[1;3m[llm/start]\u001b[0m \u001b[1m[chain:RetrievalQAWithSourcesChain > chain:MapReduceDocumentsChain > chain:LLMChain > llm:OpenAI] Entering LLM run with input:\n",
      "\u001b[0m{\n",
      "  \"prompts\": [\n",
      "    \"Given the following extracted parts of a long document and a question, create a final answer with references (\\\"SOURCES\\\"). \\nIf you don't know the answer, just say that you don't know. Don't try to make up an answer.\\nALWAYS return a \\\"SOURCES\\\" part in your answer.\\n\\nQUESTION: Which state/country's law governs the interpretation of the contract?\\n=========\\nContent: This Agreement is governed by English law and the parties submit to the exclusive jurisdiction of the English courts in  relation to any dispute (contractual or non-contractual) concerning this Agreement save that either party may apply to any court for an  injunction or other relief to protect its Intellectual Property Rights.\\nSource: 28-pl\\nContent: No Waiver. Failure or delay in exercising any right or remedy under this Agreement shall not constitute a waiver of such (or any other)  right or remedy.\\n\\n11.7 Severability. The invalidity, illegality or unenforceability of any term (or part of a term) of this Agreement shall not affect the continuation  in force of the remainder of the term (if any) and this Agreement.\\n\\n11.8 No Agency. Except as expressly stated otherwise, nothing in this Agreement shall create an agency, partnership or joint venture of any  kind between the parties.\\n\\n11.9 No Third-Party Beneficiaries.\\nSource: 30-pl\\nContent: (b) if Google believes, in good faith, that the Distributor has violated or caused Google to violate any Anti-Bribery Laws (as  defined in Clause 8.5) or that such a violation is reasonably likely to occur,\\nSource: 4-pl\\n=========\\nFINAL ANSWER: This Agreement is governed by English law.\\nSOURCES: 28-pl\\n\\nQUESTION: What did the president say about Michael Jackson?\\n=========\\nContent: Madam Speaker, Madam Vice President, our First Lady and Second Gentleman. Members of Congress and the Cabinet. Justices of the Supreme Court. My fellow Americans.  \\n\\nLast year COVID-19 kept us apart. This year we are finally together again. \\n\\nTonight, we meet as Democrats Republicans and Independents. But most importantly as Americans. \\n\\nWith a duty to one another to the American people to the Constitution. \\n\\nAnd with an unwavering resolve that freedom will always triumph over tyranny. \\n\\nSix days ago, Russia’s Vladimir Putin sought to shake the foundations of the free world thinking he could make it bend to his menacing ways. But he badly miscalculated. \\n\\nHe thought he could roll into Ukraine and the world would roll over. Instead he met a wall of strength he never imagined. \\n\\nHe met the Ukrainian people. \\n\\nFrom President Zelenskyy to every Ukrainian, their fearlessness, their courage, their determination, inspires the world. \\n\\nGroups of citizens blocking tanks with their bodies. Everyone from students to retirees teachers turned soldiers defending their homeland.\\nSource: 0-pl\\nContent: And we won’t stop. \\n\\nWe have lost so much to COVID-19. Time with one another. And worst of all, so much loss of life. \\n\\nLet’s use this moment to reset. Let’s stop looking at COVID-19 as a partisan dividing line and see it for what it is: A God-awful disease.  \\n\\nLet’s stop seeing each other as enemies, and start seeing each other for who we really are: Fellow Americans.  \\n\\nWe can’t change how divided we’ve been. But we can change how we move forward—on COVID-19 and other issues we must face together. \\n\\nI recently visited the New York City Police Department days after the funerals of Officer Wilbert Mora and his partner, Officer Jason Rivera. \\n\\nThey were responding to a 9-1-1 call when a man shot and killed them with a stolen gun. \\n\\nOfficer Mora was 27 years old. \\n\\nOfficer Rivera was 22. \\n\\nBoth Dominican Americans who’d grown up on the same streets they later chose to patrol as police officers. \\n\\nI spoke with their families and told them that we are forever in debt for their sacrifice, and we will carry on their mission to restore the trust and safety every community deserves.\\nSource: 24-pl\\nContent: And a proud Ukrainian people, who have known 30 years  of independence, have repeatedly shown that they will not tolerate anyone who tries to take their country backwards.  \\n\\nTo all Americans, I will be honest with you, as I’ve always promised. A Russian dictator, invading a foreign country, has costs around the world. \\n\\nAnd I’m taking robust action to make sure the pain of our sanctions  is targeted at Russia’s economy. And I will use every tool at our disposal to protect American businesses and consumers. \\n\\nTonight, I can announce that the United States has worked with 30 other countries to release 60 Million barrels of oil from reserves around the world.  \\n\\nAmerica will lead that effort, releasing 30 Million barrels from our own Strategic Petroleum Reserve. And we stand ready to do more if necessary, unified with our allies.  \\n\\nThese steps will help blunt gas prices here at home. And I know the news about what’s happening can seem alarming. \\n\\nBut I want you to know that we are going to be okay.\\nSource: 5-pl\\nContent: More support for patients and families. \\n\\nTo get there, I call on Congress to fund ARPA-H, the Advanced Research Projects Agency for Health. \\n\\nIt’s based on DARPA—the Defense Department project that led to the Internet, GPS, and so much more.  \\n\\nARPA-H will have a singular purpose—to drive breakthroughs in cancer, Alzheimer’s, diabetes, and more. \\n\\nA unity agenda for the nation. \\n\\nWe can do this. \\n\\nMy fellow Americans—tonight , we have gathered in a sacred space—the citadel of our democracy. \\n\\nIn this Capitol, generation after generation, Americans have debated great questions amid great strife, and have done great things. \\n\\nWe have fought for freedom, expanded liberty, defeated totalitarianism and terror. \\n\\nAnd built the strongest, freest, and most prosperous nation the world has ever known. \\n\\nNow is the hour. \\n\\nOur moment of responsibility. \\n\\nOur test of resolve and conscience, of history itself. \\n\\nIt is in this moment that our character is formed. Our purpose is found. Our future is forged. \\n\\nWell I know this nation.\\nSource: 34-pl\\n=========\\nFINAL ANSWER: The president did not mention Michael Jackson.\\nSOURCES:\\n\\nQUESTION: What is the least and highest suggested value for tata motors\\n=========\\nContent:  We downgrade TTMT to REDUCE from Hold, post its ~40% rally in past three months, with an SoTP-based TP of INR 901 (implying ~13x/2.5x FY26E India/JLR EV/EBITDA).\\n\\nFor all recommendations report, click here\\n\\nRelated stories\\n\\nHold Nazara Technologies; target of Rs 878: Prabhudas Lilladher\\n\\nDisclaimer: The views and investment tips expressed by investment experts/broking houses/rating agencies on moneycontrol.com are their own, and not that of the website or its management. Moneycontrol.com advises users to check with certified experts before taking any investment decisions.\\n\\nTata Motors - 06032024 -ici\\n\\nBroker Research\\n\\nTags:\\n\\n#ICICI Securities\\n\\n#Recommendations\\n\\n#Reduce\\n\\n#Tata Motors\\n\\nfirst published: Mar 6, 2024 12:49 pm\\n\\nTata Motors - 06032024 -ici\\n\\nRelevant text, if any: with an SoTP-based TP of INR 901 (implying ~13x/2.5x FY26E India/JLR EV/EBITDA).\\nSource: https://www.moneycontrol.com/news/business/stocks/reduce-tata-motors-target-of-rs-901-icici-securities-12411521.html\\n\\nContent:  \\\"We maintain a Buy with a revised PT of Rs 1,188 on expectations of continued improvement in JLR, PV and CV business\\\"\\nSource: https://www.moneycontrol.com/news/business/stocks/buy-tata-motors-target-of-rs-1188-sharekhan-12411611.html\\n\\nContent: \\nAccumulate Tata Motors with a recommended target price range of Rs. 25-35, according to Prabhudas Lilladher's latest broker research. The recommendations were first published on Mar 28, 2024 at 03:36 pm.\\nSource: https://www.moneycontrol.com/news/business/stocks/accumulate-tata-motors-target-of-rs-1075-prabhudas-lilladher-12538061.html\\n\\nContent:  \\\"Reduce Tata Motors; target of Rs 901\\\"\\nSource: https://www.moneycontrol.com/news/business/stocks/reduce-tata-motors-target-of-rs-901-icici-securities-12411521.html\\n=========\\nFINAL ANSWER:\"\n",
      "  ]\n",
      "}\n",
      "\u001b[36;1m\u001b[1;3m[llm/end]\u001b[0m \u001b[1m[chain:RetrievalQAWithSourcesChain > chain:MapReduceDocumentsChain > chain:LLMChain > llm:OpenAI] [3.91s] Exiting LLM run with output:\n",
      "\u001b[0m{\n",
      "  \"generations\": [\n",
      "    [\n",
      "      {\n",
      "        \"text\": \" The least and highest suggested value for Tata Motors is INR 901 and INR 1188, respectively.\\nSOURCES: https://www.moneycontrol.com/news/business/stocks/reduce-tata-motors-target-of-rs-901-icici-securities-12411521.html, https://www.moneycontrol.com/news/business/stocks/buy-tata-motors-target-of-rs-1188-sharekhan-12411611.html, https://www.moneycontrol.com/news/business/stocks/accumulate-tata-motors-target-of-rs-1075-prabhudas-lilladher-12538061.html \",\n",
      "        \"generation_info\": {\n",
      "          \"finish_reason\": \"stop\",\n",
      "          \"logprobs\": null\n",
      "        },\n",
      "        \"type\": \"Generation\"\n",
      "      }\n",
      "    ]\n",
      "  ],\n",
      "  \"llm_output\": {\n",
      "    \"token_usage\": {\n",
      "      \"total_tokens\": 1977,\n",
      "      \"prompt_tokens\": 1847,\n",
      "      \"completion_tokens\": 130\n",
      "    },\n",
      "    \"model_name\": \"gpt-3.5-turbo-instruct\"\n",
      "  },\n",
      "  \"run\": null\n",
      "}\n",
      "\u001b[36;1m\u001b[1;3m[chain/end]\u001b[0m \u001b[1m[chain:RetrievalQAWithSourcesChain > chain:MapReduceDocumentsChain > chain:LLMChain] [3.91s] Exiting Chain run with output:\n",
      "\u001b[0m{\n",
      "  \"text\": \" The least and highest suggested value for Tata Motors is INR 901 and INR 1188, respectively.\\nSOURCES: https://www.moneycontrol.com/news/business/stocks/reduce-tata-motors-target-of-rs-901-icici-securities-12411521.html, https://www.moneycontrol.com/news/business/stocks/buy-tata-motors-target-of-rs-1188-sharekhan-12411611.html, https://www.moneycontrol.com/news/business/stocks/accumulate-tata-motors-target-of-rs-1075-prabhudas-lilladher-12538061.html \"\n",
      "}\n",
      "\u001b[36;1m\u001b[1;3m[chain/end]\u001b[0m \u001b[1m[chain:RetrievalQAWithSourcesChain > chain:MapReduceDocumentsChain] [7.33s] Exiting Chain run with output:\n",
      "\u001b[0m{\n",
      "  \"output_text\": \" The least and highest suggested value for Tata Motors is INR 901 and INR 1188, respectively.\\nSOURCES: https://www.moneycontrol.com/news/business/stocks/reduce-tata-motors-target-of-rs-901-icici-securities-12411521.html, https://www.moneycontrol.com/news/business/stocks/buy-tata-motors-target-of-rs-1188-sharekhan-12411611.html, https://www.moneycontrol.com/news/business/stocks/accumulate-tata-motors-target-of-rs-1075-prabhudas-lilladher-12538061.html \"\n",
      "}\n",
      "\u001b[36;1m\u001b[1;3m[chain/end]\u001b[0m \u001b[1m[chain:RetrievalQAWithSourcesChain] [7.98s] Exiting Chain run with output:\n",
      "\u001b[0m{\n",
      "  \"answer\": \" The least and highest suggested value for Tata Motors is INR 901 and INR 1188, respectively.\\n\",\n",
      "  \"sources\": \"https://www.moneycontrol.com/news/business/stocks/reduce-tata-motors-target-of-rs-901-icici-securities-12411521.html, https://www.moneycontrol.com/news/business/stocks/buy-tata-motors-target-of-rs-1188-sharekhan-12411611.html, https://www.moneycontrol.com/news/business/stocks/accumulate-tata-motors-target-of-rs-1075-prabhudas-lilladher-12538061.html\"\n",
      "}\n"
     ]
    },
    {
     "data": {
      "text/plain": [
       "{'answer': ' The least and highest suggested value for Tata Motors is INR 901 and INR 1188, respectively.\\n',\n",
       " 'sources': 'https://www.moneycontrol.com/news/business/stocks/reduce-tata-motors-target-of-rs-901-icici-securities-12411521.html, https://www.moneycontrol.com/news/business/stocks/buy-tata-motors-target-of-rs-1188-sharekhan-12411611.html, https://www.moneycontrol.com/news/business/stocks/accumulate-tata-motors-target-of-rs-1075-prabhudas-lilladher-12538061.html'}"
      ]
     },
     "execution_count": 24,
     "metadata": {},
     "output_type": "execute_result"
    }
   ],
   "source": [
    "query = \"What is the least and highest suggested value for tata motors\"\n",
    "\n",
    "langchain.debug=True\n",
    "\n",
    "chain({\"question\": query}, return_only_outputs=True)"
   ]
  },
  {
   "cell_type": "code",
   "execution_count": null,
   "id": "9db29544-db45-41d3-915c-c26673ab5441",
   "metadata": {},
   "outputs": [],
   "source": []
  },
  {
   "cell_type": "code",
   "execution_count": null,
   "id": "24290415-1a95-4fbb-a6c3-851ebfa6e5ef",
   "metadata": {},
   "outputs": [],
   "source": []
  },
  {
   "cell_type": "code",
   "execution_count": null,
   "id": "62edf56a-ac04-4770-be22-dc4d92c6cd25",
   "metadata": {},
   "outputs": [],
   "source": []
  },
  {
   "cell_type": "code",
   "execution_count": null,
   "id": "e15eb14e-ca2d-4c1a-9c54-d0d6938ef0c8",
   "metadata": {},
   "outputs": [],
   "source": []
  },
  {
   "cell_type": "code",
   "execution_count": null,
   "id": "27189a28-cecb-4e80-8306-8509d51348b1",
   "metadata": {},
   "outputs": [],
   "source": []
  },
  {
   "cell_type": "code",
   "execution_count": null,
   "id": "70ee8ccc-7ed1-4ff3-b8e2-b74314c3db3a",
   "metadata": {},
   "outputs": [],
   "source": []
  },
  {
   "cell_type": "code",
   "execution_count": null,
   "id": "eed72968-a689-4e1c-88db-a1ec08f4901d",
   "metadata": {},
   "outputs": [],
   "source": []
  },
  {
   "cell_type": "code",
   "execution_count": null,
   "id": "e5cd2292-4145-4591-96ba-14fe288612e2",
   "metadata": {},
   "outputs": [],
   "source": []
  }
 ],
 "metadata": {
  "kernelspec": {
   "display_name": "Python 3 (ipykernel)",
   "language": "python",
   "name": "python3"
  },
  "language_info": {
   "codemirror_mode": {
    "name": "ipython",
    "version": 3
   },
   "file_extension": ".py",
   "mimetype": "text/x-python",
   "name": "python",
   "nbconvert_exporter": "python",
   "pygments_lexer": "ipython3",
   "version": "3.11.9"
  }
 },
 "nbformat": 4,
 "nbformat_minor": 5
}
